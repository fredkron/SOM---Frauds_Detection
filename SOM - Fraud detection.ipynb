{
 "cells": [
  {
   "cell_type": "markdown",
   "metadata": {},
   "source": [
    "# Self-Organizing Maps"
   ]
  },
  {
   "cell_type": "code",
   "execution_count": 14,
   "metadata": {},
   "outputs": [],
   "source": [
    "# Import librairies\n",
    "import matplotlib.pyplot as plt\n",
    "import numpy as np\n",
    "import pandas as pd\n",
    "\n",
    "from minisom import MiniSom\n",
    "from pylab import bone, pcolor, colorbar, plot, show\n",
    "from sklearn.preprocessing import MinMaxScaler"
   ]
  },
  {
   "cell_type": "code",
   "execution_count": 5,
   "metadata": {},
   "outputs": [
    {
     "data": {
      "text/html": [
       "<div>\n",
       "<style scoped>\n",
       "    .dataframe tbody tr th:only-of-type {\n",
       "        vertical-align: middle;\n",
       "    }\n",
       "\n",
       "    .dataframe tbody tr th {\n",
       "        vertical-align: top;\n",
       "    }\n",
       "\n",
       "    .dataframe thead th {\n",
       "        text-align: right;\n",
       "    }\n",
       "</style>\n",
       "<table border=\"1\" class=\"dataframe\">\n",
       "  <thead>\n",
       "    <tr style=\"text-align: right;\">\n",
       "      <th></th>\n",
       "      <th>CustomerID</th>\n",
       "      <th>A1</th>\n",
       "      <th>A2</th>\n",
       "      <th>A3</th>\n",
       "      <th>A4</th>\n",
       "      <th>A5</th>\n",
       "      <th>A6</th>\n",
       "      <th>A7</th>\n",
       "      <th>A8</th>\n",
       "      <th>A9</th>\n",
       "      <th>A10</th>\n",
       "      <th>A11</th>\n",
       "      <th>A12</th>\n",
       "      <th>A13</th>\n",
       "      <th>A14</th>\n",
       "      <th>Class</th>\n",
       "    </tr>\n",
       "  </thead>\n",
       "  <tbody>\n",
       "    <tr>\n",
       "      <th>0</th>\n",
       "      <td>15776156</td>\n",
       "      <td>1</td>\n",
       "      <td>22.08</td>\n",
       "      <td>11.46</td>\n",
       "      <td>2</td>\n",
       "      <td>4</td>\n",
       "      <td>4</td>\n",
       "      <td>1.585</td>\n",
       "      <td>0</td>\n",
       "      <td>0</td>\n",
       "      <td>0</td>\n",
       "      <td>1</td>\n",
       "      <td>2</td>\n",
       "      <td>100</td>\n",
       "      <td>1213</td>\n",
       "      <td>0</td>\n",
       "    </tr>\n",
       "    <tr>\n",
       "      <th>1</th>\n",
       "      <td>15739548</td>\n",
       "      <td>0</td>\n",
       "      <td>22.67</td>\n",
       "      <td>7.00</td>\n",
       "      <td>2</td>\n",
       "      <td>8</td>\n",
       "      <td>4</td>\n",
       "      <td>0.165</td>\n",
       "      <td>0</td>\n",
       "      <td>0</td>\n",
       "      <td>0</td>\n",
       "      <td>0</td>\n",
       "      <td>2</td>\n",
       "      <td>160</td>\n",
       "      <td>1</td>\n",
       "      <td>0</td>\n",
       "    </tr>\n",
       "    <tr>\n",
       "      <th>2</th>\n",
       "      <td>15662854</td>\n",
       "      <td>0</td>\n",
       "      <td>29.58</td>\n",
       "      <td>1.75</td>\n",
       "      <td>1</td>\n",
       "      <td>4</td>\n",
       "      <td>4</td>\n",
       "      <td>1.250</td>\n",
       "      <td>0</td>\n",
       "      <td>0</td>\n",
       "      <td>0</td>\n",
       "      <td>1</td>\n",
       "      <td>2</td>\n",
       "      <td>280</td>\n",
       "      <td>1</td>\n",
       "      <td>0</td>\n",
       "    </tr>\n",
       "    <tr>\n",
       "      <th>3</th>\n",
       "      <td>15687688</td>\n",
       "      <td>0</td>\n",
       "      <td>21.67</td>\n",
       "      <td>11.50</td>\n",
       "      <td>1</td>\n",
       "      <td>5</td>\n",
       "      <td>3</td>\n",
       "      <td>0.000</td>\n",
       "      <td>1</td>\n",
       "      <td>1</td>\n",
       "      <td>11</td>\n",
       "      <td>1</td>\n",
       "      <td>2</td>\n",
       "      <td>0</td>\n",
       "      <td>1</td>\n",
       "      <td>1</td>\n",
       "    </tr>\n",
       "    <tr>\n",
       "      <th>4</th>\n",
       "      <td>15715750</td>\n",
       "      <td>1</td>\n",
       "      <td>20.17</td>\n",
       "      <td>8.17</td>\n",
       "      <td>2</td>\n",
       "      <td>6</td>\n",
       "      <td>4</td>\n",
       "      <td>1.960</td>\n",
       "      <td>1</td>\n",
       "      <td>1</td>\n",
       "      <td>14</td>\n",
       "      <td>0</td>\n",
       "      <td>2</td>\n",
       "      <td>60</td>\n",
       "      <td>159</td>\n",
       "      <td>1</td>\n",
       "    </tr>\n",
       "  </tbody>\n",
       "</table>\n",
       "</div>"
      ],
      "text/plain": [
       "   CustomerID  A1     A2     A3  A4  A5  A6     A7  A8  A9  A10  A11  A12  \\\n",
       "0    15776156   1  22.08  11.46   2   4   4  1.585   0   0    0    1    2   \n",
       "1    15739548   0  22.67   7.00   2   8   4  0.165   0   0    0    0    2   \n",
       "2    15662854   0  29.58   1.75   1   4   4  1.250   0   0    0    1    2   \n",
       "3    15687688   0  21.67  11.50   1   5   3  0.000   1   1   11    1    2   \n",
       "4    15715750   1  20.17   8.17   2   6   4  1.960   1   1   14    0    2   \n",
       "\n",
       "   A13   A14  Class  \n",
       "0  100  1213      0  \n",
       "1  160     1      0  \n",
       "2  280     1      0  \n",
       "3    0     1      1  \n",
       "4   60   159      1  "
      ]
     },
     "execution_count": 5,
     "metadata": {},
     "output_type": "execute_result"
    }
   ],
   "source": [
    "# Datas importation\n",
    "dataset = pd.read_csv('Credit_Card_Applications.csv')\n",
    "dataset.head()"
   ]
  },
  {
   "cell_type": "code",
   "execution_count": 6,
   "metadata": {},
   "outputs": [
    {
     "data": {
      "text/plain": [
       "(690, 16)"
      ]
     },
     "execution_count": 6,
     "metadata": {},
     "output_type": "execute_result"
    }
   ],
   "source": [
    "dataset.shape"
   ]
  },
  {
   "cell_type": "code",
   "execution_count": 7,
   "metadata": {},
   "outputs": [],
   "source": [
    "# Split dataset \n",
    "X = dataset.iloc[:, :-1].values\n",
    "y = dataset.iloc[:, -1].values"
   ]
  },
  {
   "cell_type": "code",
   "execution_count": 8,
   "metadata": {},
   "outputs": [
    {
     "name": "stdout",
     "output_type": "stream",
     "text": [
      "[1.5776156e+07 1.0000000e+00 2.2080000e+01 1.1460000e+01 2.0000000e+00\n",
      " 4.0000000e+00 4.0000000e+00 1.5850000e+00 0.0000000e+00 0.0000000e+00\n",
      " 0.0000000e+00 1.0000000e+00 2.0000000e+00 1.0000000e+02 1.2130000e+03]\n",
      "0\n"
     ]
    }
   ],
   "source": [
    "print(X[0])\n",
    "print(y[0])"
   ]
  },
  {
   "cell_type": "code",
   "execution_count": 9,
   "metadata": {},
   "outputs": [],
   "source": [
    "# Scaling\n",
    "sc = MinMaxScaler()\n",
    "X = sc.fit_transform(X)"
   ]
  },
  {
   "cell_type": "code",
   "execution_count": 10,
   "metadata": {},
   "outputs": [
    {
     "data": {
      "text/plain": [
       "array([0.84268147, 1.        , 0.12526316, 0.40928571, 0.5       ,\n",
       "       0.23076923, 0.375     , 0.05561404, 0.        , 0.        ,\n",
       "       0.        , 1.        , 0.5       , 0.05      , 0.01212   ])"
      ]
     },
     "execution_count": 10,
     "metadata": {},
     "output_type": "execute_result"
    }
   ],
   "source": [
    "X[0]"
   ]
  },
  {
   "cell_type": "code",
   "execution_count": 11,
   "metadata": {},
   "outputs": [],
   "source": [
    "# Som object init\n",
    "som = MiniSom(x=10, y=10, input_len=15, random_seed=42)"
   ]
  },
  {
   "cell_type": "code",
   "execution_count": 12,
   "metadata": {},
   "outputs": [],
   "source": [
    "# Random weights init\n",
    "som.random_weights_init(X)"
   ]
  },
  {
   "cell_type": "code",
   "execution_count": 13,
   "metadata": {},
   "outputs": [],
   "source": [
    "# Training model\n",
    "som.train_random(X, num_iteration=100)"
   ]
  },
  {
   "cell_type": "code",
   "execution_count": 15,
   "metadata": {},
   "outputs": [
    {
     "data": {
      "image/png": "[encoded data removed]",
      "text/plain": [
       "<Figure size 432x288 with 2 Axes>"
      ]
     },
     "metadata": {
      "needs_background": "light"
     },
     "output_type": "display_data"
    }
   ],
   "source": [
    "# Results visualization\n",
    "bone()\n",
    "pcolor(som.distance_map().T)\n",
    "colorbar()\n",
    "\n",
    "markers = ['o', 's']\n",
    "colors = ['r', 'g']\n",
    "\n",
    "for i, x in enumerate(X):\n",
    "    w = som.winner(x)\n",
    "    plot(w[0] + 0.5, w[1] + 0.5,\n",
    "        markers[y[i]],\n",
    "        markeredgecolor = colors[y[i]],\n",
    "        markerfacecolor = 'None',\n",
    "        markersize = 10,\n",
    "        markeredgewidth = 2)\n",
    "\n",
    "show()"
   ]
  },
  {
   "cell_type": "code",
   "execution_count": 18,
   "metadata": {},
   "outputs": [
    {
     "data": {
      "text/plain": [
       "array([[1.5786237e+07, 0.0000000e+00, 1.9170000e+01, 5.8500000e-01,\n",
       "        1.0000000e+00, 6.0000000e+00, 4.0000000e+00, 5.8500000e-01,\n",
       "        1.0000000e+00, 0.0000000e+00, 0.0000000e+00, 1.0000000e+00,\n",
       "        2.0000000e+00, 1.6000000e+02, 1.0000000e+00],\n",
       "       [1.5590434e+07, 0.0000000e+00, 2.5000000e+01, 8.7500000e-01,\n",
       "        2.0000000e+00, 1.4000000e+01, 8.0000000e+00, 1.0400000e+00,\n",
       "        1.0000000e+00, 0.0000000e+00, 0.0000000e+00, 1.0000000e+00,\n",
       "        2.0000000e+00, 1.6000000e+02, 5.8610000e+03],\n",
       "       [1.5767358e+07, 0.0000000e+00, 4.9830000e+01, 1.3585000e+01,\n",
       "        2.0000000e+00, 4.0000000e+00, 8.0000000e+00, 8.5000000e+00,\n",
       "        1.0000000e+00, 0.0000000e+00, 0.0000000e+00, 1.0000000e+00,\n",
       "        2.0000000e+00, 0.0000000e+00, 1.0000000e+00],\n",
       "       [1.5671014e+07, 0.0000000e+00, 2.5330000e+01, 2.0850000e+00,\n",
       "        2.0000000e+00, 8.0000000e+00, 8.0000000e+00, 2.7500000e+00,\n",
       "        1.0000000e+00, 0.0000000e+00, 0.0000000e+00, 1.0000000e+00,\n",
       "        2.0000000e+00, 3.6000000e+02, 2.0000000e+00],\n",
       "       [1.5642336e+07, 0.0000000e+00, 5.7080000e+01, 3.3500000e-01,\n",
       "        2.0000000e+00, 3.0000000e+00, 5.0000000e+00, 1.0000000e+00,\n",
       "        1.0000000e+00, 0.0000000e+00, 0.0000000e+00, 1.0000000e+00,\n",
       "        2.0000000e+00, 2.5200000e+02, 2.1980000e+03],\n",
       "       [1.5740487e+07, 0.0000000e+00, 4.9000000e+01, 1.5000000e+00,\n",
       "        2.0000000e+00, 5.0000000e+00, 3.0000000e+00, 0.0000000e+00,\n",
       "        1.0000000e+00, 0.0000000e+00, 0.0000000e+00, 1.0000000e+00,\n",
       "        2.0000000e+00, 1.0000000e+02, 2.8000000e+01],\n",
       "       [1.5593345e+07, 0.0000000e+00, 3.8580000e+01, 5.0000000e+00,\n",
       "        2.0000000e+00, 1.3000000e+01, 4.0000000e+00, 1.3500000e+01,\n",
       "        1.0000000e+00, 0.0000000e+00, 0.0000000e+00, 1.0000000e+00,\n",
       "        2.0000000e+00, 9.8000000e+02, 1.0000000e+00],\n",
       "       [1.5811742e+07, 0.0000000e+00, 3.6750000e+01, 5.1250000e+00,\n",
       "        2.0000000e+00, 1.0000000e+01, 4.0000000e+00, 5.0000000e+00,\n",
       "        1.0000000e+00, 0.0000000e+00, 0.0000000e+00, 1.0000000e+00,\n",
       "        2.0000000e+00, 0.0000000e+00, 4.0010000e+03],\n",
       "       [1.5702571e+07, 0.0000000e+00, 2.2500000e+01, 1.1000000e+01,\n",
       "        1.0000000e+00, 1.1000000e+01, 4.0000000e+00, 3.0000000e+00,\n",
       "        1.0000000e+00, 0.0000000e+00, 0.0000000e+00, 1.0000000e+00,\n",
       "        2.0000000e+00, 2.6800000e+02, 1.0000000e+00],\n",
       "       [1.5622083e+07, 0.0000000e+00, 1.7580000e+01, 9.0000000e+00,\n",
       "        2.0000000e+00, 6.0000000e+00, 4.0000000e+00, 1.3750000e+00,\n",
       "        1.0000000e+00, 0.0000000e+00, 0.0000000e+00, 1.0000000e+00,\n",
       "        2.0000000e+00, 0.0000000e+00, 1.0000000e+00],\n",
       "       [1.5646190e+07, 0.0000000e+00, 6.0580000e+01, 1.6500000e+01,\n",
       "        2.0000000e+00, 1.1000000e+01, 4.0000000e+00, 1.1000000e+01,\n",
       "        1.0000000e+00, 0.0000000e+00, 0.0000000e+00, 1.0000000e+00,\n",
       "        2.0000000e+00, 2.1000000e+01, 1.0562000e+04],\n",
       "       [1.5715907e+07, 0.0000000e+00, 3.1570000e+01, 3.5000000e+00,\n",
       "        2.0000000e+00, 2.0000000e+00, 4.0000000e+00, 3.0000000e+00,\n",
       "        1.0000000e+00, 0.0000000e+00, 0.0000000e+00, 1.0000000e+00,\n",
       "        2.0000000e+00, 3.0000000e+02, 1.0000000e+00],\n",
       "       [1.5768342e+07, 0.0000000e+00, 4.1330000e+01, 1.0000000e+00,\n",
       "        2.0000000e+00, 3.0000000e+00, 5.0000000e+00, 2.2500000e+00,\n",
       "        1.0000000e+00, 0.0000000e+00, 0.0000000e+00, 1.0000000e+00,\n",
       "        2.0000000e+00, 0.0000000e+00, 3.0100000e+02],\n",
       "       [1.5748532e+07, 0.0000000e+00, 3.8250000e+01, 6.0000000e+00,\n",
       "        2.0000000e+00, 4.0000000e+00, 4.0000000e+00, 1.0000000e+00,\n",
       "        1.0000000e+00, 0.0000000e+00, 0.0000000e+00, 1.0000000e+00,\n",
       "        2.0000000e+00, 0.0000000e+00, 1.0000000e+00],\n",
       "       [1.5689692e+07, 0.0000000e+00, 2.8580000e+01, 1.6650000e+00,\n",
       "        2.0000000e+00, 1.1000000e+01, 4.0000000e+00, 2.4150000e+00,\n",
       "        1.0000000e+00, 0.0000000e+00, 0.0000000e+00, 1.0000000e+00,\n",
       "        2.0000000e+00, 4.4000000e+02, 1.0000000e+00],\n",
       "       [1.5672357e+07, 0.0000000e+00, 3.7750000e+01, 5.5000000e+00,\n",
       "        2.0000000e+00, 1.1000000e+01, 4.0000000e+00, 1.2500000e-01,\n",
       "        1.0000000e+00, 0.0000000e+00, 0.0000000e+00, 1.0000000e+00,\n",
       "        2.0000000e+00, 2.2800000e+02, 1.0000000e+00],\n",
       "       [1.5788634e+07, 0.0000000e+00, 2.5750000e+01, 5.0000000e-01,\n",
       "        2.0000000e+00, 8.0000000e+00, 8.0000000e+00, 8.7500000e-01,\n",
       "        1.0000000e+00, 0.0000000e+00, 0.0000000e+00, 1.0000000e+00,\n",
       "        2.0000000e+00, 4.9100000e+02, 1.0000000e+00],\n",
       "       [1.5766183e+07, 0.0000000e+00, 2.4500000e+01, 5.0000000e-01,\n",
       "        2.0000000e+00, 1.1000000e+01, 8.0000000e+00, 1.5000000e+00,\n",
       "        1.0000000e+00, 0.0000000e+00, 0.0000000e+00, 0.0000000e+00,\n",
       "        2.0000000e+00, 2.8000000e+02, 8.2500000e+02],\n",
       "       [1.5808662e+07, 0.0000000e+00, 4.6000000e+01, 4.0000000e+00,\n",
       "        2.0000000e+00, 5.0000000e+00, 3.0000000e+00, 0.0000000e+00,\n",
       "        1.0000000e+00, 0.0000000e+00, 0.0000000e+00, 0.0000000e+00,\n",
       "        2.0000000e+00, 1.0000000e+02, 9.6100000e+02],\n",
       "       [1.5684722e+07, 0.0000000e+00, 2.7670000e+01, 1.5000000e+00,\n",
       "        2.0000000e+00, 7.0000000e+00, 4.0000000e+00, 2.0000000e+00,\n",
       "        1.0000000e+00, 0.0000000e+00, 0.0000000e+00, 0.0000000e+00,\n",
       "        1.0000000e+00, 3.6800000e+02, 1.0000000e+00],\n",
       "       [1.5772329e+07, 0.0000000e+00, 2.8080000e+01, 1.5000000e+01,\n",
       "        1.0000000e+00, 1.0000000e+01, 9.0000000e+00, 0.0000000e+00,\n",
       "        1.0000000e+00, 0.0000000e+00, 0.0000000e+00, 0.0000000e+00,\n",
       "        2.0000000e+00, 0.0000000e+00, 1.3213000e+04],\n",
       "       [1.5734649e+07, 0.0000000e+00, 4.0830000e+01, 1.0000000e+01,\n",
       "        2.0000000e+00, 1.1000000e+01, 8.0000000e+00, 1.7500000e+00,\n",
       "        1.0000000e+00, 0.0000000e+00, 0.0000000e+00, 0.0000000e+00,\n",
       "        2.0000000e+00, 2.9000000e+01, 8.3800000e+02],\n",
       "       [1.5646082e+07, 0.0000000e+00, 1.8830000e+01, 4.4150000e+00,\n",
       "        1.0000000e+00, 8.0000000e+00, 8.0000000e+00, 3.0000000e+00,\n",
       "        1.0000000e+00, 0.0000000e+00, 0.0000000e+00, 0.0000000e+00,\n",
       "        2.0000000e+00, 2.4000000e+02, 1.0000000e+00],\n",
       "       [1.5717629e+07, 0.0000000e+00, 2.5170000e+01, 2.8750000e+00,\n",
       "        2.0000000e+00, 1.4000000e+01, 8.0000000e+00, 8.7500000e-01,\n",
       "        1.0000000e+00, 0.0000000e+00, 0.0000000e+00, 0.0000000e+00,\n",
       "        2.0000000e+00, 3.6000000e+02, 1.0000000e+00],\n",
       "       [1.5757188e+07, 0.0000000e+00, 2.0830000e+01, 3.0000000e+00,\n",
       "        2.0000000e+00, 6.0000000e+00, 4.0000000e+00, 4.0000000e-02,\n",
       "        1.0000000e+00, 0.0000000e+00, 0.0000000e+00, 0.0000000e+00,\n",
       "        2.0000000e+00, 1.0000000e+02, 1.0000000e+00],\n",
       "       [1.5635598e+07, 0.0000000e+00, 2.4580000e+01, 6.7000000e-01,\n",
       "        2.0000000e+00, 6.0000000e+00, 8.0000000e+00, 1.7500000e+00,\n",
       "        1.0000000e+00, 0.0000000e+00, 0.0000000e+00, 0.0000000e+00,\n",
       "        2.0000000e+00, 4.0000000e+02, 1.0000000e+00],\n",
       "       [1.5647191e+07, 0.0000000e+00, 3.2330000e+01, 5.4000000e-01,\n",
       "        2.0000000e+00, 1.3000000e+01, 4.0000000e+00, 4.0000000e-02,\n",
       "        1.0000000e+00, 0.0000000e+00, 0.0000000e+00, 0.0000000e+00,\n",
       "        2.0000000e+00, 4.4000000e+02, 1.1178000e+04],\n",
       "       [1.5776545e+07, 0.0000000e+00, 2.5000000e+01, 1.1000000e+01,\n",
       "        1.0000000e+00, 6.0000000e+00, 4.0000000e+00, 4.5000000e+00,\n",
       "        1.0000000e+00, 0.0000000e+00, 0.0000000e+00, 0.0000000e+00,\n",
       "        2.0000000e+00, 1.2000000e+02, 1.0000000e+00],\n",
       "       [1.5792107e+07, 0.0000000e+00, 3.3920000e+01, 1.5850000e+00,\n",
       "        1.0000000e+00, 1.0000000e+00, 1.0000000e+00, 0.0000000e+00,\n",
       "        1.0000000e+00, 0.0000000e+00, 0.0000000e+00, 0.0000000e+00,\n",
       "        2.0000000e+00, 3.2000000e+02, 1.0000000e+00],\n",
       "       [1.5623369e+07, 0.0000000e+00, 4.4330000e+01, 0.0000000e+00,\n",
       "        2.0000000e+00, 8.0000000e+00, 4.0000000e+00, 2.5000000e+00,\n",
       "        1.0000000e+00, 0.0000000e+00, 0.0000000e+00, 0.0000000e+00,\n",
       "        2.0000000e+00, 0.0000000e+00, 1.0000000e+00],\n",
       "       [1.5793896e+07, 0.0000000e+00, 2.8420000e+01, 3.5000000e+00,\n",
       "        2.0000000e+00, 9.0000000e+00, 4.0000000e+00, 8.3500000e-01,\n",
       "        1.0000000e+00, 0.0000000e+00, 0.0000000e+00, 0.0000000e+00,\n",
       "        1.0000000e+00, 2.8000000e+02, 1.0000000e+00],\n",
       "       [1.5650591e+07, 0.0000000e+00, 2.6080000e+01, 8.6650000e+00,\n",
       "        2.0000000e+00, 6.0000000e+00, 4.0000000e+00, 1.4150000e+00,\n",
       "        1.0000000e+00, 0.0000000e+00, 0.0000000e+00, 0.0000000e+00,\n",
       "        2.0000000e+00, 1.6000000e+02, 1.5100000e+02],\n",
       "       [1.5813192e+07, 0.0000000e+00, 2.4920000e+01, 1.2500000e+00,\n",
       "        2.0000000e+00, 1.0000000e+00, 1.0000000e+00, 0.0000000e+00,\n",
       "        1.0000000e+00, 0.0000000e+00, 0.0000000e+00, 0.0000000e+00,\n",
       "        2.0000000e+00, 8.0000000e+01, 1.0000000e+00],\n",
       "       [1.5633608e+07, 0.0000000e+00, 2.2920000e+01, 1.1585000e+01,\n",
       "        2.0000000e+00, 1.3000000e+01, 4.0000000e+00, 4.0000000e-02,\n",
       "        1.0000000e+00, 0.0000000e+00, 0.0000000e+00, 0.0000000e+00,\n",
       "        2.0000000e+00, 8.0000000e+01, 1.3500000e+03],\n",
       "       [1.5675450e+07, 0.0000000e+00, 1.8830000e+01, 9.5400000e+00,\n",
       "        2.0000000e+00, 6.0000000e+00, 4.0000000e+00, 8.5000000e-02,\n",
       "        1.0000000e+00, 0.0000000e+00, 0.0000000e+00, 0.0000000e+00,\n",
       "        2.0000000e+00, 1.0000000e+02, 1.0000000e+00]])"
      ]
     },
     "execution_count": 18,
     "metadata": {},
     "output_type": "execute_result"
    }
   ],
   "source": [
    "# Frauds detection\n",
    "mappings = som.win_map(X)\n",
    "\n",
    "frauds = np.concatenate((mappings[(4, 6)], mappings[(5, 7)]), axis=0)\n",
    "\n",
    "frauds = sc.inverse_transform(frauds)\n",
    "frauds"
   ]
  },
  {
   "cell_type": "code",
   "execution_count": 29,
   "metadata": {},
   "outputs": [
    {
     "data": {
      "text/plain": [
       "[15786237.0,\n",
       " 15590434.0,\n",
       " 15767358.0,\n",
       " 15671014.0,\n",
       " 15642336.0,\n",
       " 15740487.0,\n",
       " 15593345.0,\n",
       " 15811742.0,\n",
       " 15702571.0,\n",
       " 15622083.0,\n",
       " 15646190.0,\n",
       " 15715907.0,\n",
       " 15768342.0,\n",
       " 15748532.0,\n",
       " 15689692.0,\n",
       " 15672357.0,\n",
       " 15788634.0,\n",
       " 15766183.0,\n",
       " 15808662.0,\n",
       " 15684722.0,\n",
       " 15772329.0,\n",
       " 15734649.0,\n",
       " 15646082.0,\n",
       " 15717629.0,\n",
       " 15757188.0,\n",
       " 15635598.0,\n",
       " 15647191.0,\n",
       " 15776545.0,\n",
       " 15792107.0,\n",
       " 15623369.0,\n",
       " 15793896.0,\n",
       " 15650591.0,\n",
       " 15813192.0,\n",
       " 15633608.0,\n",
       " 15675450.0]"
      ]
     },
     "execution_count": 29,
     "metadata": {},
     "output_type": "execute_result"
    }
   ],
   "source": [
    "fraudsters_list = []\n",
    "\n",
    "for i in range(frauds.shape[0]):\n",
    "    fraudsters_list.append(frauds[i][0])\n",
    "    \n",
    "fraudsters_list"
   ]
  }
 ],
 "metadata": {
  "kernelspec": {
   "display_name": "Python 3",
   "language": "python",
   "name": "python3"
  },
  "language_info": {
   "codemirror_mode": {
    "name": "ipython",
    "version": 3
   },
   "file_extension": ".py",
   "mimetype": "text/x-python",
   "name": "python",
   "nbconvert_exporter": "python",
   "pygments_lexer": "ipython3",
   "version": "3.6.8"
  }
 },
 "nbformat": 4,
 "nbformat_minor": 2
}
